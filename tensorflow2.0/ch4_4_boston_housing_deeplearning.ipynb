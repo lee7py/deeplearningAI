{
  "nbformat": 4,
  "nbformat_minor": 0,
  "metadata": {
    "colab": {
      "name": "ch4_4_boston_housing_deeplearning.ipynb",
      "provenance": [],
      "collapsed_sections": [],
      "authorship_tag": "ABX9TyN08hJUIkS5PN6WPPzMnT2/",
      "include_colab_link": true
    },
    "kernelspec": {
      "name": "python3",
      "display_name": "Python 3"
    }
  },
  "cells": [
    {
      "cell_type": "markdown",
      "metadata": {
        "id": "view-in-github",
        "colab_type": "text"
      },
      "source": [
        "<a href=\"https://colab.research.google.com/github/chloevan/deeplearningAI/blob/master/tensorflow2.0/ch4_4_boston_housing_deeplearning.ipynb\" target=\"_parent\"><img src=\"https://colab.research.google.com/assets/colab-badge.svg\" alt=\"Open In Colab\"/></a>"
      ]
    },
    {
      "cell_type": "markdown",
      "metadata": {
        "id": "F5FKftxs4qgO",
        "colab_type": "text"
      },
      "source": [
        "---\n",
        "title: \"Tensorflow 2.0 Tutorial ch4.4 - 보스턴 주택 가격 데이터세트\"\n",
        "date: 2020-04-16T20:40:30+09:00\n",
        "tags:\n",
        "  - \"Deep Learning\"\n",
        "  - \"Python\"\n",
        "  - \"Google Colab\"\n",
        "  - \"Tensorflow 2.0\"\n",
        "  - \"다항회귀\"\n",
        "  - \"보스턴 주택 가격 데이터세트\"\n",
        "  - \"Deep Learning Linear Regression\"\n",
        "  - \"텐서플로 2.0\"\n",
        "  - \"텐서플로 2.0 튜토리얼\"\n",
        "  - \"Tensorflow 2.0 Tutorial\"\n",
        "categories:\n",
        "  - \"Deep Learning\"\n",
        "  - \"딥러닝\"\n",
        "  - \"텐서플로 2.0\"\n",
        "  - \"Python\"\n",
        "  - \"Tensorflow 2.0\"\n",
        "  - \"텐서플로 2.0 튜토리얼\"\n",
        "  - \"Tensorflow 2.0 Tutorial\"\n",
        "menu: \n",
        "  python:\n",
        "    name: Tensorflow 2.0 Tutorial ch4.4 - 보스턴 주택 가격 데이터세트\n",
        "---\n",
        "\n",
        "## 공지\n",
        "\n",
        "- 본 Tutorial은 교재 `시작하세요 텐서플로 2.0 프로그래밍`의 강사에게 국비교육 강의를 듣는 사람들에게 자료 제공을 목적으로 제작하였습니다. \n",
        "\n",
        "- 강사의 주관적인 판단으로 압축해서 자료를 정리하였기 때문에, 자세하게 공부를 하고 싶은 반드시 교재를 구매하실 것을 권해드립니다. \n",
        "\n",
        "![](/img/tensorflow2.0/book.jpg)<!-- -->\n",
        "\n",
        "\n",
        "- 본 교재 외에 강사가 추가한 내용에 대한 Reference를 확인하셔서, 추가적으로 학습하시는 것을 권유드립니다. \n",
        "\n",
        "\n",
        "## Tutorial\n",
        "\n",
        "이전 강의가 궁금하신 분들은 아래에서 선택하여 추가 학습 하시기를 바랍니다. \n",
        "\n",
        "- [Google Colab Tensorflow 2.0 Installation](https://chloevan.github.io/python/tensorflow2.0/googlecolab/)\n",
        "- [Tensorflow 2.0 Tutorial ch3.3.1 - 난수 생성 및 시그모이드 함수](https://chloevan.github.io/python/tensorflow2.0/ch3_3_1_random_signoid/)\n",
        "- [Tensorflow 2.0 Tutorial ch3.3.2 - 난수 생성 및 시그모이드 함수 편향성](https://chloevan.github.io/python/tensorflow2.0/ch3_3_2_random_signoid_bias/)\n",
        "- [Tensorflow 2.0 Tutorial ch3.3.3 - 첫번째 신경망 네트워크 - AND](https://chloevan.github.io/python/tensorflow2.0/ch3_3_3_network_and/)\n",
        "- [Tensorflow 2.0 Tutorial ch3.3.4 - 두번째 신경망 네트워크 - OR](https://chloevan.github.io/python/tensorflow2.0/ch3_3_4_network_or/)\n",
        "- [Tensorflow 2.0 Tutorial ch3.3.5 - 세번째 신경망 네트워크 - XOR](https://chloevan.github.io/python/tensorflow2.0/ch3_3_5_network_xor/)\n",
        "- [Tensorflow 2.0 Tutorial ch4.1 - 선형회귀](https://chloevan.github.io/python/tensorflow2.0/ch4_1_linear_regression/)\n",
        "- [Tensorflow 2.0 Tutorial ch4.2 - 다항회귀](https://chloevan.github.io/python/tensorflow2.0/ch4_2_multiple_linear_regression/)\n",
        "- [Tensorflow 2.0 Tutorial ch4.3 - 딥러닝 네트워크를 이용한 회귀](https://chloevan.github.io/python/tensorflow2.0/ch4_3_regression_with_deeplearning/)\n",
        "\n",
        "\n",
        "## I. 개요 및 데이터 불러오기\n",
        "\n",
        "딥러닝 네트워크를 이용한 회귀를 통해 보스턴 주택 가격 데이터세트(`Boston Housing Dataset`)을 이용한 주택 가격 예측 네트워크를 만들어본다. \n",
        "\n",
        "데이터세트에 기본적인 설명은 다음과 같다. \n",
        "- 1978년 미국 보스턴 지역의 주택 가격\n",
        "- 506개의 타운의 주택 가격 중앙값을, 1,000달러 단위로 표현\n",
        "- 범죄율\n",
        "- 주택당 방 개수\n",
        "- 고속도로까지의 거리 등"
      ]
    },
    {
      "cell_type": "code",
      "metadata": {
        "id": "cEjVDP146EF3",
        "colab_type": "code",
        "colab": {
          "base_uri": "https://localhost:8080/",
          "height": 85
        },
        "outputId": "dff9d880-0c7e-4e6a-e34d-e69172f392db"
      },
      "source": [
        "from tensorflow.keras.datasets import boston_housing\n",
        "(train_X, train_Y), (test_X, test_Y) = boston_housing.load_data()\n",
        "\n",
        "print(len(train_X), len(test_X))\n",
        "print(train_X[0])\n",
        "print(train_Y[0])"
      ],
      "execution_count": 30,
      "outputs": [
        {
          "output_type": "stream",
          "text": [
            "404 102\n",
            "[  1.23247   0.        8.14      0.        0.538     6.142    91.7\n",
            "   3.9769    4.      307.       21.      396.9      18.72   ]\n",
            "15.2\n"
          ],
          "name": "stdout"
        }
      ]
    },
    {
      "cell_type": "markdown",
      "metadata": {
        "id": "r9j8p65e6oCg",
        "colab_type": "text"
      },
      "source": [
        "보스턴 주택 가격 데이터세트는 `keras`에 기본으로 탑재되어 있다. `load_data()` 함수를 사용해 데이터를 불러올 수 있는데, 이 때 훈련(`train`) 데이터와 테스트(`test`) 데이터를 나누게 된다. \n",
        "\n",
        "## II. 데이터 분리(훈련데이터 & 테스트데이터)\n",
        "\n",
        "교재 `P.91-2`에 보면, 훈련 데이터, 검증 데이터, 테스트 데이터의 역할에 비교적 이해하기 쉽게 기술이 되어 있습니다. 이 부분을 처음 접하시는 분들은 꼭 한번 읽어보시기를 바랍니다. \n",
        "\n",
        "딥러닝과 관련해서 한가지 알아두면 좋은 것은 딥러닝 네트워크의 가중치에 영향을 주는 데이터는 훈련 데이터인데, 만약 교차검증(`cross-validation`)기법을 통하면 훈련 데이터 중 일부를 검증 데이터로 주는 비율을 바꿔가면서 학습시킬 수 있습니다. \n",
        "\n",
        "보스턴 주택 가격 데이터세트는 훈련 데이터가 `404`개, 테스트 데이터가 `102`개이며, 비율로 따지면 약 `80:20` 정도입니다. \n",
        "\n",
        "보스턴 주택 가격 데이터 속성은 아래와 같습니다. \n",
        "\n",
        "| 속성 \t| 내용 \t|\n",
        "|:--------:\t|:---------------------------------------------------------------------------------------------------------------:\t|\n",
        "| CRIM \t|  범죄율 |\n",
        "| ZN \t| 25,000평방피트당 주거지역의 비율 \t|\n",
        "| INDUS \t| 비소매 상업지구 비율(단위: 에이커)\t|\n",
        "| CHAS \t| 찰스강에 인접해 있으면 1, 그렇지 않으면 0\t|\n",
        "| NOX \t| 일산화질소 농도(단위:0.1ppm)\t|\n",
        "| RM \t| 주택당 방의 수\t|\n",
        "| AGE \t| 1940년 이전에 건설된 주택의 비율\t|\n",
        "| DIS \t| 5개의 보스턴 직업고용센터와의 거리(가중 평균)\t|\n",
        "| RAD \t| 고속도로 접근성\t|\n",
        "| TAX \t| 재산세율\t|\n",
        "| PTRATIO \t| 학생/교사비율\t|\n",
        "| B \t| 흑인비율\t|\n",
        "| LSTAT \t| 하위계층비율\t|\n",
        "| MEDV \t| 타운의 주택 가격 중앙값(단위: 1,000달러\t|\n",
        "\n",
        "딥러닝 모형을 만들기전, 데이터 전처리를 진행해야 하는데 이것과 관련한 논쟁거리를 하나 소개합니다. \n",
        "\n",
        "## III. 언제 데이터 정규화를 해야할까? \n",
        "데이터 정규화의 기본적인 방법은 각 데이터에서 평균값을 뺀 다음 표준편차로 나눕니다. 그런데, 한가지 궁금한 것이 있다면, 데이터 정규화를 훈련 데이터와 테스트 데이터를 나누기 전에 해야 하는 것이 맞는 것인지, 아니면 나눈 후에 하는 것이 맞는 것인지, 헷갈릴 때가 종종 있습니다. \n",
        "\n",
        "스택오버플로우에 이러한 내용을 토대로 나온 좋은 토론글이 있습니다. \n",
        "- [Normalize data before or after split of training and testing data?](http://bit.ly/2JDmJ1D)\n",
        "\n",
        "순서는 다음과 같습니다. \n",
        "1. 먼저 데이터를 분리합니다. \n",
        "2. 훈련데이터를 가지고 정규화를 진행합니다. \n",
        "3. 정규화를 진행한 이후, 훈련데이터 정규화로 나온 값의 평균과 분산을 확인합니다. \n",
        "4. 훈련데이터 평균과 분산을 가지고 테스트 데이터를 정규화합니다. \n",
        "5. 모형을 생성합니다. \n",
        "\n",
        "검증 데이터도 마찬가지입니다. 이제 코드를 작성합니다. "
      ]
    },
    {
      "cell_type": "code",
      "metadata": {
        "id": "nt9vhoPUDzW0",
        "colab_type": "code",
        "colab": {
          "base_uri": "https://localhost:8080/",
          "height": 85
        },
        "outputId": "e145386c-7dfd-4114-bba3-44a74d0a2a75"
      },
      "source": [
        "# 4.12 데이터 전처리(정규화)\n",
        "x_mean = train_X.mean(axis=0)\n",
        "x_std = train_X.std(axis=0)\n",
        "train_X -= x_mean\n",
        "train_X /= x_std\n",
        "test_X -= x_mean\n",
        "test_X /= x_std\n",
        "\n",
        "y_mean = train_Y.mean(axis=0)\n",
        "y_std = train_Y.std(axis=0)\n",
        "train_Y -= y_mean\n",
        "train_Y /= y_std\n",
        "test_Y -= y_mean\n",
        "test_Y /= y_std\n",
        "\n",
        "print(train_X[0])\n",
        "print(train_Y[0])"
      ],
      "execution_count": 31,
      "outputs": [
        {
          "output_type": "stream",
          "text": [
            "[-0.27224633 -0.48361547 -0.43576161 -0.25683275 -0.1652266  -0.1764426\n",
            "  0.81306188  0.1166983  -0.62624905 -0.59517003  1.14850044  0.44807713\n",
            "  0.8252202 ]\n",
            "-0.7821526033779157\n"
          ],
          "name": "stdout"
        }
      ]
    },
    {
      "cell_type": "markdown",
      "metadata": {
        "id": "pfx6NQNyGUIz",
        "colab_type": "text"
      },
      "source": [
        "## IV. 딥러닝 네트워크 학습\n",
        "\n",
        "정규화가 완료된 이후에는 시퀀셜 모델을 활용하여 딥러닝 네트워크를 학습 시킵니다. "
      ]
    },
    {
      "cell_type": "code",
      "metadata": {
        "id": "tMDsKuLfGgxx",
        "colab_type": "code",
        "colab": {
          "base_uri": "https://localhost:8080/",
          "height": 289
        },
        "outputId": "06cee4e6-0bcb-4123-c38c-f8960b501dac"
      },
      "source": [
        "model = tf.keras.Sequential([\n",
        "  tf.keras.layers.Dense(units=52, activation='relu', input_shape=(13, )), \n",
        "  tf.keras.layers.Dense(units=39, activation='relu'), \n",
        "  tf.keras.layers.Dense(units=26, activation='relu'), \n",
        "  tf.keras.layers.Dense(units=1)\n",
        "])\n",
        "\n",
        "model.compile(optimizer=tf.keras.optimizers.Adam(lr=0.07), loss='mse')\n",
        "model.summary()"
      ],
      "execution_count": 21,
      "outputs": [
        {
          "output_type": "stream",
          "text": [
            "Model: \"sequential_1\"\n",
            "_________________________________________________________________\n",
            "Layer (type)                 Output Shape              Param #   \n",
            "=================================================================\n",
            "dense_4 (Dense)              (None, 52)                728       \n",
            "_________________________________________________________________\n",
            "dense_5 (Dense)              (None, 39)                2067      \n",
            "_________________________________________________________________\n",
            "dense_6 (Dense)              (None, 26)                1040      \n",
            "_________________________________________________________________\n",
            "dense_7 (Dense)              (None, 1)                 27        \n",
            "=================================================================\n",
            "Total params: 3,862\n",
            "Trainable params: 3,862\n",
            "Non-trainable params: 0\n",
            "_________________________________________________________________\n"
          ],
          "name": "stdout"
        }
      ]
    },
    {
      "cell_type": "markdown",
      "metadata": {
        "id": "7F78WikNHLYl",
        "colab_type": "text"
      },
      "source": [
        "코드 설명은 다음과 같습니다. \n",
        "\n",
        "- 첫 번째 레이어에서는 X 데이터의 속성을 모두 불러오기 위해 `input_shape`의 첫 번째 차원을 13으로 지정합니다. \n",
        "- 마지막 레이어는 주택가격인 Y값 1개만 예측하면 되기 때문에 뉴런의 수가 1개입니다. \n",
        "- 활성화함수로는 `relu`만 사용합니다. \n",
        "- 모델 정의가 끝나면 `model.fit()` 함수로 회귀 모델을 학습시킵니다. \n",
        "\n",
        "### (1) 그림 4.5. 출력 코드"
      ]
    },
    {
      "cell_type": "code",
      "metadata": {
        "id": "23gmsT9-LCeZ",
        "colab_type": "code",
        "colab": {
          "base_uri": "https://localhost:8080/",
          "height": 265
        },
        "outputId": "e0cd4e00-e854-4b57-ee81-682e68ad1742"
      },
      "source": [
        "# 그림 4.5 출력 코드\n",
        "import math\n",
        "def sigmoid(x):\n",
        "    return 1 / (1 + math.exp(-x))\n",
        "\n",
        "x = np.arange(-5, 5, 0.01)\n",
        "sigmoid_x = [sigmoid(z) for z in x]\n",
        "tanh_x = [math.tanh(z) for z in x]\n",
        "relu = [0 if z < 0 else z for z in x]\n",
        "\n",
        "plt.axhline(0, color='gray')\n",
        "plt.axvline(0, color='gray')\n",
        "plt.plot(x, sigmoid_x, 'b-', label='sigmoid')\n",
        "plt.plot(x, tanh_x, 'r--', label='tanh')\n",
        "plt.plot(x, relu, 'g.', label='relu')\n",
        "plt.legend()\n",
        "plt.show()"
      ],
      "execution_count": 22,
      "outputs": [
        {
          "output_type": "display_data",
          "data": {
            "image/png": "[encoded data removed]",
            "text/plain": [
              "<Figure size 432x288 with 1 Axes>"
            ]
          },
          "metadata": {
            "tags": [],
            "needs_background": "light"
          }
        }
      ]
    },
    {
      "cell_type": "code",
      "metadata": {
        "id": "0mbAQV6ZH1eS",
        "colab_type": "code",
        "colab": {
          "base_uri": "https://localhost:8080/",
          "height": 867
        },
        "outputId": "ffdf8c3d-c433-4f5f-860a-f5835d5cbe37"
      },
      "source": [
        "history = model.fit(train_X, train_Y, epochs=25, batch_size=32, validation_split=0.25)"
      ],
      "execution_count": 32,
      "outputs": [
        {
          "output_type": "stream",
          "text": [
            "Epoch 1/25\n",
            "10/10 [==============================] - 0s 5ms/step - loss: 0.2009 - val_loss: 0.4002\n",
            "Epoch 2/25\n",
            "10/10 [==============================] - 0s 5ms/step - loss: 0.2382 - val_loss: 0.2915\n",
            "Epoch 3/25\n",
            "10/10 [==============================] - 0s 5ms/step - loss: 0.2133 - val_loss: 0.2996\n",
            "Epoch 4/25\n",
            "10/10 [==============================] - 0s 5ms/step - loss: 0.2024 - val_loss: 0.3201\n",
            "Epoch 5/25\n",
            "10/10 [==============================] - 0s 4ms/step - loss: 0.1887 - val_loss: 0.3605\n",
            "Epoch 6/25\n",
            "10/10 [==============================] - 0s 5ms/step - loss: 0.2041 - val_loss: 0.3185\n",
            "Epoch 7/25\n",
            "10/10 [==============================] - 0s 4ms/step - loss: 0.1815 - val_loss: 0.2961\n",
            "Epoch 8/25\n",
            "10/10 [==============================] - 0s 5ms/step - loss: 0.1984 - val_loss: 0.3034\n",
            "Epoch 9/25\n",
            "10/10 [==============================] - 0s 5ms/step - loss: 0.2154 - val_loss: 0.3473\n",
            "Epoch 10/25\n",
            "10/10 [==============================] - 0s 5ms/step - loss: 0.2441 - val_loss: 0.3394\n",
            "Epoch 11/25\n",
            "10/10 [==============================] - 0s 5ms/step - loss: 0.2401 - val_loss: 0.3083\n",
            "Epoch 12/25\n",
            "10/10 [==============================] - 0s 5ms/step - loss: 0.1671 - val_loss: 0.3178\n",
            "Epoch 13/25\n",
            "10/10 [==============================] - 0s 4ms/step - loss: 0.1613 - val_loss: 0.2963\n",
            "Epoch 14/25\n",
            "10/10 [==============================] - 0s 4ms/step - loss: 0.1587 - val_loss: 0.2522\n",
            "Epoch 15/25\n",
            "10/10 [==============================] - 0s 5ms/step - loss: 0.1973 - val_loss: 0.3850\n",
            "Epoch 16/25\n",
            "10/10 [==============================] - 0s 4ms/step - loss: 0.2309 - val_loss: 0.4120\n",
            "Epoch 17/25\n",
            "10/10 [==============================] - 0s 5ms/step - loss: 0.1818 - val_loss: 0.2867\n",
            "Epoch 18/25\n",
            "10/10 [==============================] - 0s 6ms/step - loss: 0.1592 - val_loss: 0.2601\n",
            "Epoch 19/25\n",
            "10/10 [==============================] - 0s 4ms/step - loss: 0.1483 - val_loss: 0.2544\n",
            "Epoch 20/25\n",
            "10/10 [==============================] - 0s 5ms/step - loss: 0.1416 - val_loss: 0.2757\n",
            "Epoch 21/25\n",
            "10/10 [==============================] - 0s 4ms/step - loss: 0.1475 - val_loss: 0.2622\n",
            "Epoch 22/25\n",
            "10/10 [==============================] - 0s 4ms/step - loss: 0.1441 - val_loss: 0.2380\n",
            "Epoch 23/25\n",
            "10/10 [==============================] - 0s 4ms/step - loss: 0.1692 - val_loss: 0.2581\n",
            "Epoch 24/25\n",
            "10/10 [==============================] - 0s 5ms/step - loss: 0.1739 - val_loss: 0.2449\n",
            "Epoch 25/25\n",
            "10/10 [==============================] - 0s 5ms/step - loss: 0.1652 - val_loss: 0.3004\n"
          ],
          "name": "stdout"
        }
      ]
    },
    {
      "cell_type": "markdown",
      "metadata": {
        "id": "QTwmCsDfH3wH",
        "colab_type": "text"
      },
      "source": [
        "코드 설명 및 출력 결과에 대한 해석은 다음과 같습니다. \n",
        "\n",
        "- `validation_split`은 훈련데이터에서 일정 비율로 떼서 학습 결과를 검증하기 위한 것입니다. 출력의 경향을 보면, `loss`는 꾸준하게 감소하지만, `val_loss`는 `loss`보다 높은 값을 유지하는 것을 볼 수 있습니다. \n",
        "\n",
        "이를 시각화하면 다음과 같습니다. "
      ]
    },
    {
      "cell_type": "code",
      "metadata": {
        "id": "Rdp-hK47IUae",
        "colab_type": "code",
        "colab": {
          "base_uri": "https://localhost:8080/",
          "height": 279
        },
        "outputId": "9c7f8780-f726-47d7-f635-bf748901afbb"
      },
      "source": [
        "import matplotlib.pyplot as plt\n",
        "\n",
        "plt.plot(history.history['loss'], 'b-', label='loss')\n",
        "plt.plot(history.history['val_loss'], 'r--', label='val_loss')\n",
        "plt.xlabel('Epoch')\n",
        "plt.legend()\n",
        "plt.show()"
      ],
      "execution_count": 33,
      "outputs": [
        {
          "output_type": "display_data",
          "data": {
            "image/png": "[encoded data removed]",
            "text/plain": [
              "<Figure size 432x288 with 1 Axes>"
            ]
          },
          "metadata": {
            "tags": [],
            "needs_background": "light"
          }
        }
      ]
    },
    {
      "cell_type": "markdown",
      "metadata": {
        "id": "VFb7aTTgIq9S",
        "colab_type": "text"
      },
      "source": [
        "훈련 데이터의 손실은 꾸준히 감소하지만, 검증데이터의 손실이 항상 감소하는 것은 아닙니다. 모형이 마음에 드는 것이나 일단 회귀 모형을 평가해봅니다. "
      ]
    },
    {
      "cell_type": "code",
      "metadata": {
        "id": "yBHdtxL3I2no",
        "colab_type": "code",
        "colab": {
          "base_uri": "https://localhost:8080/",
          "height": 51
        },
        "outputId": "82b409e7-4640-4458-bec1-db6140a7b370"
      },
      "source": [
        "model.evaluate(test_X, test_Y)"
      ],
      "execution_count": 28,
      "outputs": [
        {
          "output_type": "stream",
          "text": [
            "4/4 [==============================] - 0s 2ms/step - loss: 8023.7656\n"
          ],
          "name": "stdout"
        },
        {
          "output_type": "execute_result",
          "data": {
            "text/plain": [
              "8023.765625"
            ]
          },
          "metadata": {
            "tags": []
          },
          "execution_count": 28
        }
      ]
    },
    {
      "cell_type": "markdown",
      "metadata": {
        "id": "8wOVQDU6I7VQ",
        "colab_type": "text"
      },
      "source": [
        "테스트 데이터의 손실은 `0.9155`가 나옵니다. 위 그래프에서 훈련 데이터가 보여주는 `0.6` 정도의 낮은 손실과는 거리가 있어 보입니다. \n",
        "\n",
        "네트워크가 `Y`값을 얼마나 잘 예측하는지 확인해보기 위해 실제 주택 가격과 예측 주택 가격을 `1:1`로 비교해봅니다. "
      ]
    },
    {
      "cell_type": "code",
      "metadata": {
        "id": "CV9nWvSGJMyh",
        "colab_type": "code",
        "colab": {
          "base_uri": "https://localhost:8080/",
          "height": 339
        },
        "outputId": "a0fb18a1-fee1-4592-fe9e-8200c28139d5"
      },
      "source": [
        "import matplotlib.pyplot as plt\n",
        "\n",
        "pred_Y = model.predict(test_X)\n",
        "\n",
        "plt.figure(figsize=(5,5))\n",
        "plt.plot(test_Y, pred_Y, 'b.')\n",
        "plt.axis([min(test_Y), max(test_Y), min(test_Y), max(test_Y)])\n",
        "\n",
        "# y=x에 해당하는 대각선\n",
        "plt.plot([min(test_Y), max(test_Y)], [min(test_Y), max(test_Y)], ls=\"--\", c=\".3\")\n",
        "plt.xlabel('test_Y')\n",
        "plt.ylabel('pred_Y')\n",
        "\n",
        "plt.show()"
      ],
      "execution_count": 39,
      "outputs": [
        {
          "output_type": "display_data",
          "data": {
            "image/png": "[encoded data removed]",
            "text/plain": [
              "<Figure size 360x360 with 1 Axes>"
            ]
          },
          "metadata": {
            "tags": [],
            "needs_background": "light"
          }
        }
      ]
    },
    {
      "cell_type": "markdown",
      "metadata": {
        "id": "boYgRRZuNGeq",
        "colab_type": "text"
      },
      "source": [
        "\n",
        "## V. 모형 업그레이드\n",
        "\n",
        "검증 데이터와 테스트 데이터에 대해 모두 좋은 예측 성적을 내려면 어떻게 해야 할까요? 검증 데이터와 테스트 데이터는 훈련 데이터아 달리 네트워크의 가중치에 영향을 미치지 않는다는 공통점이 있으니, 이를 활용합니다. 이 때, 검증 데이터에 대한 성적이 좋아지려면 `val_loss`가 높아지지 않도록, 즉 네트워크가 훈련 데이터에 과적합되지 않도록 학습 도중에 끼어들어서 학습을 멈추도록 합니다. \n",
        "\n",
        "학습 도중에 끼어들기 위해서는 콜백(`callback`) 함수를 사용합니다. 콜백 함수는 모델을 학습할 때 에포크가 끝날 때마다 호출됩니다. "
      ]
    },
    {
      "cell_type": "code",
      "metadata": {
        "id": "cfvZEEntN0cj",
        "colab_type": "code",
        "colab": {
          "base_uri": "https://localhost:8080/",
          "height": 459
        },
        "outputId": "466b3844-125f-4b5b-e220-61522e7e56c6"
      },
      "source": [
        "model = tf.keras.Sequential([\n",
        "  tf.keras.layers.Dense(units=52, activation='relu', input_shape=(13, )), \n",
        "  tf.keras.layers.Dense(units=39, activation='relu'), \n",
        "  tf.keras.layers.Dense(units=26, activation='relu'), \n",
        "  tf.keras.layers.Dense(units=1)\n",
        "])\n",
        "\n",
        "model.compile(optimizer=tf.keras.optimizers.Adam(lr=0.07), loss='mse')\n",
        "history = model.fit(train_X, train_Y, epochs=25, batch_size=32, validation_split=0.25, \n",
        "                    callbacks=[tf.keras.callbacks.EarlyStopping(patience=3, monitor='val_loss')])"
      ],
      "execution_count": 40,
      "outputs": [
        {
          "output_type": "stream",
          "text": [
            "Epoch 1/25\n",
            "10/10 [==============================] - 0s 10ms/step - loss: 1.2692 - val_loss: 0.6573\n",
            "Epoch 2/25\n",
            "10/10 [==============================] - 0s 4ms/step - loss: 0.3468 - val_loss: 0.3027\n",
            "Epoch 3/25\n",
            "10/10 [==============================] - 0s 4ms/step - loss: 0.2343 - val_loss: 0.3601\n",
            "Epoch 4/25\n",
            "10/10 [==============================] - 0s 4ms/step - loss: 0.2485 - val_loss: 0.2040\n",
            "Epoch 5/25\n",
            "10/10 [==============================] - 0s 4ms/step - loss: 0.1606 - val_loss: 0.1463\n",
            "Epoch 6/25\n",
            "10/10 [==============================] - 0s 5ms/step - loss: 0.1371 - val_loss: 0.1716\n",
            "Epoch 7/25\n",
            "10/10 [==============================] - 0s 5ms/step - loss: 0.1561 - val_loss: 0.1441\n",
            "Epoch 8/25\n",
            "10/10 [==============================] - 0s 5ms/step - loss: 0.1223 - val_loss: 0.1498\n",
            "Epoch 9/25\n",
            "10/10 [==============================] - 0s 4ms/step - loss: 0.0983 - val_loss: 0.1318\n",
            "Epoch 10/25\n",
            "10/10 [==============================] - 0s 4ms/step - loss: 0.0915 - val_loss: 0.1206\n",
            "Epoch 11/25\n",
            "10/10 [==============================] - 0s 4ms/step - loss: 0.0849 - val_loss: 0.1418\n",
            "Epoch 12/25\n",
            "10/10 [==============================] - 0s 4ms/step - loss: 0.1200 - val_loss: 0.2197\n",
            "Epoch 13/25\n",
            "10/10 [==============================] - 0s 5ms/step - loss: 0.1105 - val_loss: 0.1319\n"
          ],
          "name": "stdout"
        }
      ]
    },
    {
      "cell_type": "markdown",
      "metadata": {
        "id": "1EFuGSlpOIhA",
        "colab_type": "text"
      },
      "source": [
        "`tf.keras.callbacks.EarlyStopping`는 말 그대로 학습을 일찍 멈추는 기능을 하는 함수로, `patience`는 몇 번의 에포크를 기준으로 삼을 것인지, `monitor`는 어떤 값을 지켜볼 것인지에 대한 인수입니다. 여기서는 `val_loss`가 3회의 에포크를 수행하는 동안 최고 기록을 갱신하지 못하면 학습을 멈춥니다. 즉, 10 에포크에서 `0.1206`이 최고치인데, 11, 12, 13에서 갱신하지 못했기 때문에 학습을 멈췄습니다. \n",
        "\n",
        "이를 다시 시각화하면 아래와 같습니다. "
      ]
    },
    {
      "cell_type": "code",
      "metadata": {
        "id": "MFUisUhoO9uH",
        "colab_type": "code",
        "colab": {
          "base_uri": "https://localhost:8080/",
          "height": 279
        },
        "outputId": "fbbee499-491c-41fc-abfb-f703f2f11cde"
      },
      "source": [
        "import matplotlib.pyplot as plt\n",
        "\n",
        "plt.plot(history.history['loss'], 'b-', label='loss')\n",
        "plt.plot(history.history['val_loss'], 'r--', label='val_loss')\n",
        "plt.xlabel('Epoch')\n",
        "plt.legend()\n",
        "plt.show()"
      ],
      "execution_count": 41,
      "outputs": [
        {
          "output_type": "display_data",
          "data": {
            "image/png": "[encoded data removed]",
            "text/plain": [
              "<Figure size 432x288 with 1 Axes>"
            ]
          },
          "metadata": {
            "tags": [],
            "needs_background": "light"
          }
        }
      ]
    },
    {
      "cell_type": "markdown",
      "metadata": {
        "id": "P8WVUpKAPAcP",
        "colab_type": "text"
      },
      "source": [
        "검증 데이터의 손실에서 뚜렷한 증가세는 조금 덜 보입니다. 모형을 평가한뒤 다시 실제 주택 가격과 예측 주택 가격을 1:1로 시각홰봅니다. "
      ]
    },
    {
      "cell_type": "code",
      "metadata": {
        "id": "-98YoDQRPTmJ",
        "colab_type": "code",
        "colab": {
          "base_uri": "https://localhost:8080/",
          "height": 356
        },
        "outputId": "7fdb9072-f4dc-4dff-ceaf-b4f77b156e0f"
      },
      "source": [
        "import matplotlib.pyplot as plt\n",
        "\n",
        "model.evaluate(test_X, test_Y)\n",
        "pred_Y = model.predict(test_X)\n",
        "\n",
        "plt.figure(figsize=(5,5))\n",
        "plt.plot(test_Y, pred_Y, 'b.')\n",
        "plt.axis([min(test_Y), max(test_Y), min(test_Y), max(test_Y)])\n",
        "\n",
        "# y=x에 해당하는 대각선\n",
        "plt.plot([min(test_Y), max(test_Y)], [min(test_Y), max(test_Y)], ls=\"--\", c=\".3\")\n",
        "plt.xlabel('test_Y')\n",
        "plt.ylabel('pred_Y')\n",
        "\n",
        "plt.show()"
      ],
      "execution_count": 42,
      "outputs": [
        {
          "output_type": "stream",
          "text": [
            "4/4 [==============================] - 0s 2ms/step - loss: 0.3753\n"
          ],
          "name": "stdout"
        },
        {
          "output_type": "display_data",
          "data": {
            "image/png": "[encoded data removed]",
            "text/plain": [
              "<Figure size 360x360 with 1 Axes>"
            ]
          },
          "metadata": {
            "tags": [],
            "needs_background": "light"
          }
        }
      ]
    },
    {
      "cell_type": "markdown",
      "metadata": {
        "id": "RuEWncS-PZ7p",
        "colab_type": "text"
      },
      "source": [
        "조금 더 모형이 다듬어진 것을 볼 수 있습니다. 이렇게 EarlyStopping을 활용하면 과적합 방지도 가능한 기법을 배웠습니다. \n",
        "\n",
        "이제 분류로 넘어갑니다. \n",
        "\n",
        "## VI. 연습 파일\n",
        "- [구글 Colab에서 직접 연습해보자](https://colab.research.google.com/github/chloevan/deeplearningAI/blob/master/tensorflow2.0/ch4_4_boston_housing_deeplearning.ipynb) \n",
        "\n",
        "## VII. Reference\n",
        "\n",
        "김환희. (2020). 시작하세요! 텐서플로 2.0 프로그래밍: 기초 이론부터 실전 예제까지 한번에 끝내는 머신러닝, 딥러닝 핵심 가이드. 서울: 위키북스."
      ]
    }
  ]
}