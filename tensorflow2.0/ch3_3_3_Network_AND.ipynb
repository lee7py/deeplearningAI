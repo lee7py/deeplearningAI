{
  "nbformat": 4,
  "nbformat_minor": 0,
  "metadata": {
    "colab": {
      "name": "ch3_3_3_Network_AND.ipynb",
      "provenance": [],
      "collapsed_sections": [],
      "toc_visible": true,
      "authorship_tag": "ABX9TyPjZCraq8n9X7Ga2ERt+FAe",
      "include_colab_link": true
    },
    "kernelspec": {
      "name": "python3",
      "display_name": "Python 3"
    }
  },
  "cells": [
    {
      "cell_type": "markdown",
      "metadata": {
        "id": "view-in-github",
        "colab_type": "text"
      },
      "source": [
        "<a href=\"https://colab.research.google.com/github/chloevan/deeplearningAI/blob/master/tensorflow2.0/ch3_3_3_Network_AND.ipynb\" target=\"_parent\"><img src=\"https://colab.research.google.com/assets/colab-badge.svg\" alt=\"Open In Colab\"/></a>"
      ]
    },
    {
      "cell_type": "markdown",
      "metadata": {
        "id": "WmmIA3BQvnAZ",
        "colab_type": "text"
      },
      "source": [
        "## 공지\n",
        "\n",
        "- 본 Tutorial은 교재 `시작하세요 텐서플로 2.0 프로그래밍`의 강사에게 국비교육 강의를 듣는 사람들에게 자료 제공을 목적으로 제작하였습니다. \n",
        "- 강사의 주관적인 판단으로 압축해서 자료를 정리하였기 때문에, 자세하게 공부를 하고 싶은 반드시 교재를 구매하실 것을 권해드립니다. \n",
        "![](/img/tensorflow2.0/book.jpg)<!-- -->\n",
        "\n",
        "- 본 교재 외에 강사가 추가한 내용에 대한 Reference를 확인하셔서, 추가적으로 학습하시는 것을 권유드립니다. \n",
        "\n",
        "\n",
        "## Tutorial\n",
        "\n",
        "이전 강의가 궁금하신 분들은 아래에서 선택하여 추가 학습 하시기를 바랍니다. \n",
        "\n",
        "- [Google Colab Tensorflow 2.0 Installation](https://chloevan.github.io/python/tensorflow2.0/googlecolab/)\n",
        "- [Tensorflow 2.0 Tutorial ch3.3.1 - 난수 생성 및 시그모이드 함수](https://chloevan.github.io/python/tensorflow2.0/ch3_3_1_random_signoid/)\n",
        "- [Tensorflow 2.0 Tutorial ch3.3.2 - 난수 생성 및 시그모이드 함수 편향성](https://chloevan.github.io/python/tensorflow2.0/ch3_3_2_random_signoid_bias/)\n",
        "\n",
        "## I. AND 연산의 기본 개념\n",
        "\n",
        "AND 연산의 기본개념은 아래와 같습니다. 다른 프로그래밍과 다르지 않습니다. \n",
        "\n",
        "`입력1` | `입력2` | `AND 연산`\n",
        "--- | --- | ---\n",
        "참 | 참 | 참\n",
        "참 | 거짓 | 거짓\n",
        "거짓 | 참 | 거짓\n",
        "거짓 | 거짓 | 거짓\n",
        "\n",
        "파이썬에서는 참, 거짓을 나타내는 값은 `True`, `False`입니다. 그런데, 딥러닝의 주요 입력값은 정수(Integer)나 실수(float)입니다. 참과 거짓의 값을 출력하여 확인해봅니다. \n",
        "\n",
        "\n"
      ]
    },
    {
      "cell_type": "code",
      "metadata": {
        "id": "OWPt_LYk6XMV",
        "colab_type": "code",
        "colab": {
          "base_uri": "https://localhost:8080/",
          "height": 51
        },
        "outputId": "5b0a0d27-f649-4277-e6cd-4d5c22b18248"
      },
      "source": [
        "print(int(True))\n",
        "print(int(False))"
      ],
      "execution_count": 1,
      "outputs": [
        {
          "output_type": "stream",
          "text": [
            "1\n",
            "0\n"
          ],
          "name": "stdout"
        }
      ]
    },
    {
      "cell_type": "markdown",
      "metadata": {
        "id": "acgz4aWm6cAF",
        "colab_type": "text"
      },
      "source": [
        "참은 1로 출력하고 거짓은 0으로 출력한 것을 확인하였습니다. 다시 AND 연산 기본개념에 적용하면 아래와 같습니다. \n",
        "\n",
        "`입력1` | `입력2` | `AND 연산`\n",
        "--- | --- | ---\n",
        "1 | 1 | 1\n",
        "1 | 0 | 0\n",
        "0 | 1 | 0\n",
        "0 | 0 | 0\n",
        "\n",
        "이제 숫자로 된 네개의 입력과 출력(AND 연산)의 쌍이 생겼습니다. 이제 AND 연산을 할 수 있는 신경망 네트워크를 만들어봅니다. "
      ]
    },
    {
      "cell_type": "code",
      "metadata": {
        "id": "nNvyFvzj6_Na",
        "colab_type": "code",
        "colab": {
          "base_uri": "https://localhost:8080/",
          "height": 187
        },
        "outputId": "bde26592-0484-4a6f-941d-c77382b3692b"
      },
      "source": [
        "# 본 예제\n",
        "import tensorflow as tf\n",
        "import numpy as np\n",
        "\n",
        "import math\n",
        "# 시그모이드 함수 정의\n",
        "def sigmoid(x): \n",
        "  return 1 / (1 + math.exp(-x))\n",
        "\n",
        "x = np.array([[1, 1], [1, 0], [0, 1], [0, 0]])\n",
        "y = np.array([[1], [0], [0], [0]])\n",
        "w = tf.random.normal([2], 0, 1)\n",
        "b = tf.random.normal([1], 0, 1)\n",
        "b_x = 1\n",
        "\n",
        "for i in range(2000): \n",
        "  error_sum = 0\n",
        "\n",
        "  for j in range(4): \n",
        "    output = sigmoid(np.sum(x[j] * w) + b_x * b)\n",
        "    error = y[j][0] - output\n",
        "    w = w + x[j] * 0.1 * error\n",
        "    b = b + b_x * 0.1 * error\n",
        "    error_sum += error\n",
        "\n",
        "  if i % 200 == 199:\n",
        "    print(i, error_sum)"
      ],
      "execution_count": 6,
      "outputs": [
        {
          "output_type": "stream",
          "text": [
            "199 -0.10664604227192419\n",
            "399 -0.0643946715061894\n",
            "599 -0.04600188172236917\n",
            "799 -0.03567996639075575\n",
            "999 -0.029089461092594807\n",
            "1199 -0.024526551513673306\n",
            "1399 -0.0211850336803021\n",
            "1599 -0.018634950907257527\n",
            "1799 -0.016626949381179347\n",
            "1999 -0.01500491979044496\n"
          ],
          "name": "stdout"
        }
      ]
    },
    {
      "cell_type": "markdown",
      "metadata": {
        "id": "1qjzubVj8Jtv",
        "colab_type": "text"
      },
      "source": [
        "`NumPy`에 관한 내용은 여기에서는 생략합니다. \n",
        "\n",
        "위에 가중치(`w`)에 적용된 수식은 다음과 같습니다. $$w = w + x[j] \\times 0.1 \\times error$$\n",
        "\n",
        "여기서는 $x[j]\\times0.1$ 부분의 계산을 빨리 하기 위해 `NumPy Array`를 활용했습니다. \n",
        "\n",
        "\n",
        "\n",
        "## II. NumPy VS List\n",
        "\n",
        "여기에서 NumPy와 List를 혼동할 때가 많습니다. 메모리 연산 등에 비교하는 문서가 필요하면 [Python Lists VS Numpy Arrays](https://www.geeksforgeeks.org/python-lists-vs-numpy-arrays/)에서 확인 후 직접 코드 실행을 해서 익히기를 바랍니다. \n",
        "\n",
        "딥러닝에서 확인하고 싶은 것은 왜 List 대신에 NumPy가 사용되는 것인지에 대한 내용입니다. \n",
        "\n",
        "수식을 보면, 오차(`error`)가 먼저 계산되고 난 뒤, 가중치를 업데이트 하게 됩니다. 이 때 만약 리스트로 값이 이루어진다면, 오차가 `0`이거나 또는 `음수 `일 때는 Empty(빈)리스트가 반환될 것입니다. "
      ]
    },
    {
      "cell_type": "code",
      "metadata": {
        "id": "EDkz_qUpA4wR",
        "colab_type": "code",
        "colab": {
          "base_uri": "https://localhost:8080/",
          "height": 68
        },
        "outputId": "20ac64d9-120a-4fb3-b788-645f77751cf9"
      },
      "source": [
        "print([1, 2, 3] * 2)\n",
        "print([1, 2, 3] * 0)\n",
        "print([1, 2, 3] * -1)"
      ],
      "execution_count": 3,
      "outputs": [
        {
          "output_type": "stream",
          "text": [
            "[1, 2, 3, 1, 2, 3]\n",
            "[]\n",
            "[]\n"
          ],
          "name": "stdout"
        }
      ]
    },
    {
      "cell_type": "markdown",
      "metadata": {
        "id": "zOIpKwvmBHxX",
        "colab_type": "text"
      },
      "source": [
        "또한 0.01과 같은 실수를 곱하면 다음과 같은 에러가 발생합니다. "
      ]
    },
    {
      "cell_type": "code",
      "metadata": {
        "id": "-Ulguar6BMyw",
        "colab_type": "code",
        "colab": {
          "base_uri": "https://localhost:8080/",
          "height": 164
        },
        "outputId": "d61e10ea-2ea2-46f2-b689-8bf1d532dc02"
      },
      "source": [
        "print([1,2,3] * 0.01)"
      ],
      "execution_count": 4,
      "outputs": [
        {
          "output_type": "error",
          "ename": "TypeError",
          "evalue": "ignored",
          "traceback": [
            "\u001b[0;31m---------------------------------------------------------------------------\u001b[0m",
            "\u001b[0;31mTypeError\u001b[0m                                 Traceback (most recent call last)",
            "\u001b[0;32m<ipython-input-4-31e359ec4ae9>\u001b[0m in \u001b[0;36m<module>\u001b[0;34m()\u001b[0m\n\u001b[0;32m----> 1\u001b[0;31m \u001b[0mprint\u001b[0m\u001b[0;34m(\u001b[0m\u001b[0;34m[\u001b[0m\u001b[0;36m1\u001b[0m\u001b[0;34m,\u001b[0m\u001b[0;36m2\u001b[0m\u001b[0;34m,\u001b[0m\u001b[0;36m3\u001b[0m\u001b[0;34m]\u001b[0m \u001b[0;34m*\u001b[0m \u001b[0;36m0.01\u001b[0m\u001b[0;34m)\u001b[0m\u001b[0;34m\u001b[0m\u001b[0;34m\u001b[0m\u001b[0m\n\u001b[0m",
            "\u001b[0;31mTypeError\u001b[0m: can't multiply sequence by non-int of type 'float'"
          ]
        }
      ]
    },
    {
      "cell_type": "markdown",
      "metadata": {
        "id": "3qB_XnpJBVZI",
        "colab_type": "text"
      },
      "source": [
        "반대로, NumPy array에 실수를 곱하면 어떨까요?"
      ]
    },
    {
      "cell_type": "code",
      "metadata": {
        "id": "hXyMjmQ6BafG",
        "colab_type": "code",
        "colab": {
          "base_uri": "https://localhost:8080/",
          "height": 85
        },
        "outputId": "4da19870-8210-48c8-8388-a4ac54e373ca"
      },
      "source": [
        "import numpy as np\n",
        "print(np.array([1,2,3]) * 2)\n",
        "print(np.array([1,2,3]) * 0)\n",
        "print(np.array([1,2,3]) * -1)\n",
        "print(np.array([1,2,3]) * 0.01)"
      ],
      "execution_count": 5,
      "outputs": [
        {
          "output_type": "stream",
          "text": [
            "[2 4 6]\n",
            "[0 0 0]\n",
            "[-1 -2 -3]\n",
            "[0.01 0.02 0.03]\n"
          ],
          "name": "stdout"
        }
      ]
    },
    {
      "cell_type": "markdown",
      "metadata": {
        "id": "E68bvmNbBlnc",
        "colab_type": "text"
      },
      "source": [
        "위에서 확인하는 것처럼 모두 출력되는 것을 확인할 수 있습니다. AND 연산의 수가 4배로 많아졌기 때문에 네트워크가 경사하강법으로 수렴하는데에는 더 많은 연산이 필요합니다. `error_sum`을 통해서 점점 줄어드는 것을 확인할 수 있습니다. \n",
        "\n",
        "### III. AND 네트워크의 평가\n",
        "이렇게 학습시킨 네트워크가 정상적으로 작동하는지 평가해본다. 네트워크에 x의 각 값을 넣었을 때, 실제 출력이 기대출력인 y값에 얼마나 가까운지 다음 코드를 통해 확인한다. "
      ]
    },
    {
      "cell_type": "code",
      "metadata": {
        "id": "iSaz5tgFBi1A",
        "colab_type": "code",
        "colab": {
          "base_uri": "https://localhost:8080/",
          "height": 85
        },
        "outputId": "1ec55e6d-b115-4206-a2e8-af6654b0e236"
      },
      "source": [
        "for i in range(4): \n",
        "  print('X:', x[i], 'Y:', y[i], 'Output:', sigmoid(np.sum(x[i]*w)+b))"
      ],
      "execution_count": 7,
      "outputs": [
        {
          "output_type": "stream",
          "text": [
            "X: [1 1] Y: [1] Output: 0.9649695824038163\n",
            "X: [1 0] Y: [0] Output: 0.024824442411186316\n",
            "X: [0 1] Y: [0] Output: 0.024900221652718595\n",
            "X: [0 0] Y: [0] Output: 2.359785345402601e-05\n"
          ],
          "name": "stdout"
        }
      ]
    },
    {
      "cell_type": "markdown",
      "metadata": {
        "id": "TJU8n9bFC8pB",
        "colab_type": "text"
      },
      "source": [
        "마지막 `Output`이 `2.359785345402601e-05`나오는 것은 일종의 과학적 표기법으로 실수를 가수와 지수로 표현하는 방법이다. \n",
        "\n",
        "다음을 통해서 확인해본다. "
      ]
    },
    {
      "cell_type": "code",
      "metadata": {
        "id": "r1TSTR1JD0yJ",
        "colab_type": "code",
        "colab": {
          "base_uri": "https://localhost:8080/",
          "height": 34
        },
        "outputId": "111b4c02-0840-4709-ea15-005e5db7b267"
      },
      "source": [
        "print(\"{:.16f}\".format(float(\"2.359785345402601e-05\")))"
      ],
      "execution_count": 10,
      "outputs": [
        {
          "output_type": "stream",
          "text": [
            "0.0000235978534540\n"
          ],
          "name": "stdout"
        }
      ]
    },
    {
      "cell_type": "markdown",
      "metadata": {
        "id": "19RatkTZElfp",
        "colab_type": "text"
      },
      "source": [
        "## IV. 연습 파일\n",
        "- [구글 Colab에서 직접 연습해보자](https://colab.research.google.com/github/chloevan/deeplearningAI/blob/master/tensorflow2.0/ch3_3_3_Network_AND.ipynb) \n",
        "\n",
        "## V. Reference\n",
        "\n",
        "김환희. (2020). 시작하세요! 텐서플로 2.0 프로그래밍: 기초 이론부터 실전 예제까지 한번에 끝내는 머신러닝, 딥러닝 핵심 가이드. 서울: 위키북스."
      ]
    },
    {
      "cell_type": "code",
      "metadata": {
        "id": "VqpuXgdoCvbz",
        "colab_type": "code",
        "colab": {}
      },
      "source": [
        ""
      ],
      "execution_count": 0,
      "outputs": []
    }
  ]
}