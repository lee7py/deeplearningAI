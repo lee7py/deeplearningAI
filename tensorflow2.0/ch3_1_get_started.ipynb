{
  "nbformat": 4,
  "nbformat_minor": 0,
  "metadata": {
    "colab": {
      "name": "ch3_1_get_started.ipynb",
      "provenance": [],
      "collapsed_sections": [],
      "authorship_tag": "ABX9TyNkOR/P5fXehuEu6RpNtRHR",
      "include_colab_link": true
    },
    "kernelspec": {
      "name": "python3",
      "display_name": "Python 3"
    }
  },
  "cells": [
    {
      "cell_type": "markdown",
      "metadata": {
        "id": "view-in-github",
        "colab_type": "text"
      },
      "source": [
        "<a href=\"https://colab.research.google.com/github/chloevan/deeplearningAI/blob/master/tensorflow2.0/ch3_1_get_started.ipynb\" target=\"_parent\"><img src=\"https://colab.research.google.com/assets/colab-badge.svg\" alt=\"Open In Colab\"/></a>"
      ]
    },
    {
      "cell_type": "markdown",
      "metadata": {
        "id": "NXBJXqjWuevS",
        "colab_type": "text"
      },
      "source": [
        "## 1. Hello World 출력하기\n",
        "Hello World는 화면에 \"Hello, World!\"를 출력하는 프로그램이다. 정상적으로 프로그램이 작동하는지 확인하기 위한 과정으로 이해하면 좋다. 빠르게 확인해보자. "
      ]
    },
    {
      "cell_type": "code",
      "metadata": {
        "id": "PjTLd-DruTvu",
        "colab_type": "code",
        "colab": {
          "base_uri": "https://localhost:8080/",
          "height": 34
        },
        "outputId": "94d2b381-92b7-4e01-8078-668afa5911ab"
      },
      "source": [
        "# 1. Hello World 출력하기\n",
        "print(\"Hello, World!\")"
      ],
      "execution_count": 2,
      "outputs": [
        {
          "output_type": "stream",
          "text": [
            "Hello, World!\n"
          ],
          "name": "stdout"
        }
      ]
    },
    {
      "cell_type": "markdown",
      "metadata": {
        "id": "Fh-g2cFFudqr",
        "colab_type": "text"
      },
      "source": [
        "## 2. Hello 텐서플로 2.0 출력하기\n",
        "텐서플로 `1.xx` 버전과 `2.0` 버전의 차이는 매우 크기 때문에, 꼭 버전 확인하는 것이 중요하다. 만약 로컬에서 텐서플로를 구현한다면, 반드시 버전 확인을 해야 한다. 구글 코랩에서는 아래와 같은 명령어로 `tensorflow 2.0`을 설치할 수 있다. \n"
      ]
    },
    {
      "cell_type": "code",
      "metadata": {
        "id": "FG57RlBvzlNP",
        "colab_type": "code",
        "colab": {}
      },
      "source": [
        "try:\n",
        "  # %tensorflow_version only exists in Colab\n",
        "  %tensorflow_version 2.x\n",
        "except Exception:\n",
        "  pass\n",
        "import tensorflow as tf"
      ],
      "execution_count": 0,
      "outputs": []
    },
    {
      "cell_type": "markdown",
      "metadata": {
        "id": "6uyns96d0T09",
        "colab_type": "text"
      },
      "source": [
        "위 소스코드에 대해 간단하게 설명하면 다음과 같다. \n",
        "- `%`기호는 일종의 매직 커맨드라고 불리워진다. \n",
        "- `tensorflow_version` 텐서플로의 버전을 선택하는 기능이며, 이 기능은 구글 코랩에서만 실행이 가능하니, 유의하기 바란다. \n",
        "\n",
        "이제 `tensorflow`를 메모리로 불러오는 과정을 진행한다. 이 과정을 `Python`에서는 모듈(`Module`) 임포트(`import`)이라고 불리워진다. \n"
      ]
    },
    {
      "cell_type": "code",
      "metadata": {
        "id": "lG69-gfF1ReD",
        "colab_type": "code",
        "colab": {
          "base_uri": "https://localhost:8080/",
          "height": 34
        },
        "outputId": "d3958c69-9e91-4ae9-b2e9-2a10360aac4a"
      },
      "source": [
        "import tensorflow as tf\n",
        "print(tf.__version__)"
      ],
      "execution_count": 5,
      "outputs": [
        {
          "output_type": "stream",
          "text": [
            "2.2.0-rc2\n"
          ],
          "name": "stdout"
        }
      ]
    },
    {
      "cell_type": "markdown",
      "metadata": {
        "id": "T9SQj8Hr2Ygy",
        "colab_type": "text"
      },
      "source": [
        "위 버전이 확인되었으면 이제 정상적으로 `Hello World`를 출력해본다. "
      ]
    },
    {
      "cell_type": "code",
      "metadata": {
        "colab_type": "code",
        "id": "CDApWkOs2Igh",
        "colab": {
          "base_uri": "https://localhost:8080/",
          "height": 34
        },
        "outputId": "8076c4aa-8dfe-4e49-bf50-10a86bac8afa"
      },
      "source": [
        "tf.constant(\"hello world\")"
      ],
      "execution_count": 6,
      "outputs": [
        {
          "output_type": "execute_result",
          "data": {
            "text/plain": [
              "<tf.Tensor: shape=(), dtype=string, numpy=b'hello world'>"
            ]
          },
          "metadata": {
            "tags": []
          },
          "execution_count": 6
        }
      ]
    },
    {
      "cell_type": "markdown",
      "metadata": {
        "id": "wVnFrL3J3VYz",
        "colab_type": "text"
      },
      "source": [
        "위 소스코드에서 확인할 수 있듯이, 실행하는 순간 연산이 되기 때문에 텐서 정보에 실행결과가 저장되는 것을 확인할 수 있다. \n",
        "\n",
        "Congratulation! You installed Tensorflow 2.0"
      ]
    }
  ]
}