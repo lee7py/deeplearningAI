{
  "nbformat": 4,
  "nbformat_minor": 0,
  "metadata": {
    "colab": {
      "name": "ch3_2_random_signoid.ipynb",
      "provenance": [],
      "collapsed_sections": [],
      "authorship_tag": "ABX9TyNxuD2xTJxhLGwSXoyB+Iwe",
      "include_colab_link": true
    },
    "kernelspec": {
      "name": "python3",
      "display_name": "Python 3"
    }
  },
  "cells": [
    {
      "cell_type": "markdown",
      "metadata": {
        "id": "view-in-github",
        "colab_type": "text"
      },
      "source": [
        "<a href=\"https://colab.research.google.com/github/chloevan/deeplearningAI/blob/master/tensorflow2.0/ch3_2_random_signoid.ipynb\" target=\"_parent\"><img src=\"https://colab.research.google.com/assets/colab-badge.svg\" alt=\"Open In Colab\"/></a>"
      ]
    },
    {
      "cell_type": "markdown",
      "metadata": {
        "id": "xnCzPJ0tgbR9",
        "colab_type": "text"
      },
      "source": [
        "---\n",
        "title: \"Tensorflow 2.0 Tutorial ch3.2 - 난수 생성 및 시그모이드 함수\"\n",
        "date: 2020-04-05T11:20:30+09:00\n",
        "tags:\n",
        "  - \"Deep Learning\"\n",
        "  - \"Python\"\n",
        "  - \"Google Colab\"\n",
        "  - \"Tensorflow 2.0\"\n",
        "  - \"텐서플로 2.0\"\n",
        "  - \"텐서플로 2.0 튜토리얼\"\n",
        "  - \"Tensorflow 2.0 Tutorial\"\n",
        "categories:\n",
        "  - \"Deep Learning\"\n",
        "  - \"딥러닝\"\n",
        "  - \"텐서플로 2.0\"\n",
        "  - \"Python\"\n",
        "  - \"Tensorflow 2.0\"\n",
        "  - \"텐서플로 2.0 튜토리얼\"\n",
        "  - \"Tensorflow 2.0 Tutorial\"\n",
        "menu: \n",
        "  python:\n",
        "    name: Tensorflow 2.0 Tutorial ch3.2 - 난수 생성 및 시그모이드 함수\n",
        "---\n",
        "\n",
        "## 공지\n",
        "\n",
        "- 본 Tutorial은 `시작하세요 텐서플로 2.0 프로그래밍`의 강사에게 국비교육 강의를 듣는 사람들에게 자료 제공을 목적으로 제작하였습니다. \n",
        "- 강사의 주관적인 판단으로 압축해서 자료를 정리하였기 때문에, 자세하게 공부를 하고 싶은 반드시 교재를 구매하실 것을 권해드립니다. \n",
        "- 본 교재 외에 강사가 추가한 내용에 대한 Reference를 확인하셔서, 추가적으로 학습하시는 것을 권유드립니다. \n",
        "\n",
        "## I. 퍼셉트론의 한계 극복\n",
        "\n",
        "`AI`는 과거부터 존재하였지만, 여러가지 한계로 인해 연구의 흥망성쇠가 계속적으로 있어왔다. 퍼셉트론의 한계를 지적하는 데 사용됐던, `AND`, `OR`, `XOR` 연산을 할 수 있는 신경망 네트워크를 직접 만들어보자. \n",
        "\n",
        "## II. 난수(Random Number) 생성\n",
        "신경망을 쉽게 정의하면, 많은 숫자로 구성된 행렬의 의미를 가진다. 행렬을 구성하는 숫자는 처음에 `Random`으로 지정해주어야 하기 때문에 이러한 작업을 초기화(`Initialization`)이라 한다. 대중적으로 많이 쓰이는 방법은 `Xavier 초기화(Xavier Initialization)`, `He 초기화(He Initialization)`가 있다. 이제 난수를 생성해보자. "
      ]
    },
    {
      "cell_type": "code",
      "metadata": {
        "id": "FZ09LDzXaiOL",
        "colab_type": "code",
        "colab": {
          "base_uri": "https://localhost:8080/",
          "height": 34
        },
        "outputId": "260d7d04-20bb-4b00-8720-dee09d78b954"
      },
      "source": [
        "import tensorflow as tf\n",
        "print(tf.__version__)"
      ],
      "execution_count": 2,
      "outputs": [
        {
          "output_type": "stream",
          "text": [
            "2.2.0-rc2\n"
          ],
          "name": "stdout"
        }
      ]
    },
    {
      "cell_type": "code",
      "metadata": {
        "id": "h8IdRU7hgph6",
        "colab_type": "code",
        "colab": {
          "base_uri": "https://localhost:8080/",
          "height": 34
        },
        "outputId": "d33b3372-0bd2-4813-d258-d890ed427e15"
      },
      "source": [
        "rand = tf.random.uniform([1], 0, 1)\n",
        "print(rand)"
      ],
      "execution_count": 5,
      "outputs": [
        {
          "output_type": "stream",
          "text": [
            "tf.Tensor([0.10252678], shape=(1,), dtype=float32)\n"
          ],
          "name": "stdout"
        }
      ]
    },
    {
      "cell_type": "markdown",
      "metadata": {
        "id": "0VZLCt3O5eq7",
        "colab_type": "text"
      },
      "source": [
        "`tf.random.uniform` 함수는 일종의 균일 분포(uniform distribution)의 난수를 얻을 수 있다. 균일분포의 뜻이란, 정해진 최소값과 최대값 사이의 모든 수가 나올 확률이 동일한 분포에서 수를 뽑는다는 뜻을 의미한다. \n",
        "- `[1]`: 은 결과값의 `Shape`를 의미하는데, 일종의 행, 열 등 차원의 수를 나타내는 값이다. \n",
        "- `0`: 최소값 0을 의미한다. \n",
        "- `1`: 최대값 1을 의미한다. \n",
        "\n",
        "`shape`를 바꿔서 여러 개의 난수를 얻을 수 있다.\n",
        "\n"
      ]
    },
    {
      "cell_type": "code",
      "metadata": {
        "id": "qrAmqmJh6ZEJ",
        "colab_type": "code",
        "colab": {
          "base_uri": "https://localhost:8080/",
          "height": 34
        },
        "outputId": "f6c32a7b-1af7-478c-e220-73cc7976bf8b"
      },
      "source": [
        "rand = tf.random.uniform([4], 0, 1)\n",
        "print(rand)"
      ],
      "execution_count": 3,
      "outputs": [
        {
          "output_type": "stream",
          "text": [
            "tf.Tensor([0.8006196  0.61932623 0.3595978  0.6863916 ], shape=(4,), dtype=float32)\n"
          ],
          "name": "stdout"
        }
      ]
    },
    {
      "cell_type": "markdown",
      "metadata": {
        "id": "_3aBQOCw6okn",
        "colab_type": "text"
      },
      "source": [
        "정규(normal) 분포를 통해서 난수를 얻을 수 있다. 정규 분포는 가운데가 높고 양극단으로 갈수록 낮아져서 종 모양을 그리는 분포를 말한다. 정규 분포의 난수를 구하기 위해서는 `tf.random.uniform`을 `tf.random.normal`로 바꾸기만 하면 된다. "
      ]
    },
    {
      "cell_type": "code",
      "metadata": {
        "id": "pgMq2p2H64gd",
        "colab_type": "code",
        "colab": {
          "base_uri": "https://localhost:8080/",
          "height": 34
        },
        "outputId": "adb6c41f-7c04-4579-e3a1-ecf6ded12682"
      },
      "source": [
        "rand = tf.random.normal([4], 0, 1)\n",
        "print(rand)"
      ],
      "execution_count": 4,
      "outputs": [
        {
          "output_type": "stream",
          "text": [
            "tf.Tensor([-0.7653245  -1.318475   -0.0448174   0.06587371], shape=(4,), dtype=float32)\n"
          ],
          "name": "stdout"
        }
      ]
    },
    {
      "cell_type": "markdown",
      "metadata": {
        "id": "xy9AFAPe7A-h",
        "colab_type": "text"
      },
      "source": [
        "1 이상의 값도 나올 수 있고, 음수가 나올 수도 있는데, 여기서 두번째의 0은 정규분포의 평균을 말하고, 세번째의 1은 정규분포의 표준편차를 의미한다. 아래 소스코드를 통해서 균일분포와 정규분포의 차이점을 이해하기 바란다. \n",
        "\n"
      ]
    },
    {
      "cell_type": "code",
      "metadata": {
        "id": "8pfRtHZO9TNC",
        "colab_type": "code",
        "colab": {
          "base_uri": "https://localhost:8080/",
          "height": 268
        },
        "outputId": "8828c054-aaa6-48b3-8f0f-a84871675b3d"
      },
      "source": [
        "# Imports\n",
        "import numpy as np\n",
        "import matplotlib.pyplot as plt\n",
        "import seaborn as sns\n",
        "sns.set()\n",
        "import warnings\n",
        "warnings.simplefilter(\"ignore\", UserWarning)\n",
        "\n",
        "# Let's create an array of random numbers from uniform distribution\n",
        "uniform = np.random.uniform(0,1,1000000)\n",
        "\n",
        "# Let's create an array of random numbers from normal distribution\n",
        "normal = np.random.normal(0,1,1000000)\n",
        "\n",
        "# Let's plot them\n",
        "ax = sns.distplot(uniform, label='Uniform Distribution')\n",
        "bx = sns.distplot(normal, label= 'Normal Distribution')\n",
        "legend = plt.legend()\n",
        "plt.show()"
      ],
      "execution_count": 10,
      "outputs": [
        {
          "output_type": "display_data",
          "data": {
            "image/png": "[encoded data removed]",
            "text/plain": [
              "<Figure size 432x288 with 1 Axes>"
            ]
          },
          "metadata": {
            "tags": []
          }
        }
      ]
    },
    {
      "cell_type": "markdown",
      "metadata": {
        "id": "cZT_2xPg-Gvl",
        "colab_type": "text"
      },
      "source": [
        "균일 분포와 정규 분포에 대해 각 100만개의 샘플을 구해서 히스토그램으로 나타내면 균일 분포는 최소값 0과 최대값 1 사이에서 균일하게 나타나지만, 정규분포는 평균 0을 기준으로 종형 곡선 (bell curve)를 그리게 되는 것을 확인할 수 있다. \n",
        "\n",
        "정규 분포는 실생활에서 자주 볼 수 있는 분포 형태이며, 앞에서 소개한 Xavier 초기화나 He 초기화는 균일 분포와 정규 분포 중 하나를 택해서 신경망의 초기값을 만든다. \n",
        "\n",
        "## III. 뉴런 만들기\n",
        "신경망의 가장 기본적인 구성요소인 뉴런을 만들어본다. 뉴런은 입력, 가중치, 활성화함수, 출력 등으로 구성된다. 뉴런에 대한 그림 설명은 본 교재 Page 40-41를 참고한다. \n",
        "\n",
        "과거에는 뉴런을 퍼셉트론이라고 불렀으며, 입력을 받아서 계산 후 출력을 반환하는 단순한 구조였지만, 신경망은 이러한 뉴런이 여러 개가 모여 레이어(layer)를 구성한 후, 이 레이어가 다시 모여 구성된 형태를 띈다. \n",
        "\n",
        "이 때의 뉴런은, `입력`, `가중치`, `활성화함수`, `출력`등으로 구성된다. `입력`, `가중치`, `출력`은 보통 `정수(integer)`나 앞에서 살펴본 `float` 등이 많이 사용된다. 활성화함수는 뉴런의 출력값을 정하는 함수이며, 가장 간단한 형태의 뉴런은 입력에 가중치를 곱한 뒤 활성화함수를 취하면 출력을 얻을 수 있다. \n",
        "\n",
        "뉴런에서 학습할 때 변하는 것은 `가중치`이다. 가중치는 처음에는 초기화를 통해 랜덤한 값을 넣고, 학습 과정에서 점차 일정한 값으로 수렴한다. **학습이 잘된다는 뜻의 의미는 좋은 가중치를 얻어서 원하는 출력값에 근접했다는 것을 의미**한다. \n",
        "\n",
        "이 때, 활성화함수가 사용되는데, `시그모이드(sigmoid)`, `ReLU` 등을 주로 쓰게 된다. 결론부터 말하면, 현재에는 시그모이드보다는 ReLU가 더 많이 쓰인다. \n",
        "\n",
        "## (1) 시그모이드(sigmoid)\n",
        "시그모이드는 출력값을 0~1 사이로만 제한하지만, ReLU는 양수를 그대로 반환하기 때문에 값의 왜곡이 적어진다. \n",
        "\n",
        "시그모이드 함수를 파이썬으로 구현해보자. 먼저 `sigmoid()` 구현한뒤 입력이 1일 때 기대출력이 0이 되는 뉴런을 만들어본다. \n"
      ]
    },
    {
      "cell_type": "code",
      "metadata": {
        "id": "G1wGtzkRCy3v",
        "colab_type": "code",
        "colab": {}
      },
      "source": [
        "import math\n",
        "def sigmoid(x): \n",
        "  return 1 / (1 + math.exp(-x))"
      ],
      "execution_count": 0,
      "outputs": []
    },
    {
      "cell_type": "code",
      "metadata": {
        "id": "TSEFvsxDC3bQ",
        "colab_type": "code",
        "colab": {
          "base_uri": "https://localhost:8080/",
          "height": 51
        },
        "outputId": "dc197409-16d7-4a32-ed96-936820fd44be"
      },
      "source": [
        "x = 1\n",
        "y = 0\n",
        "w = tf.random.normal([1], 0, 1)\n",
        "output = sigmoid(x * w)\n",
        "print(output)"
      ],
      "execution_count": 13,
      "outputs": [
        {
          "output_type": "stream",
          "text": [
            "0.25820436275087716\n",
            "-0.25820436275087716\n"
          ],
          "name": "stdout"
        }
      ]
    },
    {
      "cell_type": "markdown",
      "metadata": {
        "id": "TRcTuxR6DN8K",
        "colab_type": "text"
      },
      "source": [
        "각각의 코드에 대한 설명은 아래와 같다. \n",
        "- `x`는 입력값을 의미\n",
        "- `y`는 출력의 기대값을 의미 \n",
        "- `w`는 가중치로써, 정규분포의 랜덤한 값을 넣는다.\n",
        "- `output`은 sigmoid() 함수에 입력과 가중치를 곱한 값을 넣어서 계산함\n"
      ]
    },
    {
      "cell_type": "code",
      "metadata": {
        "id": "16LbdKOtEWCC",
        "colab_type": "code",
        "colab": {
          "base_uri": "https://localhost:8080/",
          "height": 34
        },
        "outputId": "65394e0c-4f83-46a3-9aee-d3ab548cf159"
      },
      "source": [
        "error = y - output\n",
        "print(error)"
      ],
      "execution_count": 14,
      "outputs": [
        {
          "output_type": "stream",
          "text": [
            "-0.25820436275087716\n"
          ],
          "name": "stdout"
        }
      ]
    },
    {
      "cell_type": "markdown",
      "metadata": {
        "id": "8bgcRSs7EbnB",
        "colab_type": "text"
      },
      "source": [
        "실제 출력으로 나온 값은 `0.25820436275087716`이므로, 기대했던 0과는 오차가 발생함을 알 수가 있다. 여기서 뉴런이란 결국 `w(즉, 가중치)`값이며, 이제 이 가중치에 변화를 주어야 합니다. 대표적으로 가중치에 변화를 주는 것이 경사 하강법이며, 이것은 `w(가중치)`에 입력과 학습률(a)과 에러를 곱한 값을 더해주는 것이다. 학습률은 `가중치(w)`를 업데이트 하는 정도로 생각하면 된다.[^1]\n",
        "\n",
        "w = w + x * a * error\n",
        "\n",
        "경사 하강법이 효과를 발휘하는지 코드로 확인해보자. \n",
        "\n",
        "[^1]: 경사는 손실 곡선의 기울기를 의미하며, 자세한 설명은 구글 머신러닝 단기집중과정의 <<손실 줄이기: 경사하강법>>에서 확인한다. https://developers.google.com/machine-learning/crash-course/reducing-loss/gradient-descent?hl=ko\n"
      ]
    },
    {
      "cell_type": "code",
      "metadata": {
        "id": "wA3GjzSkF8Sj",
        "colab_type": "code",
        "colab": {
          "base_uri": "https://localhost:8080/",
          "height": 187
        },
        "outputId": "3000d348-db85-412c-bad8-3931debdb7fd"
      },
      "source": [
        "for i in range(1000): \n",
        "  output = sigmoid(x * w)\n",
        "  error = y - output\n",
        "  w = w + x * 0.1 * error\n",
        "\n",
        "  if i % 100 == 99:\n",
        "    print(i, error, output)"
      ],
      "execution_count": 17,
      "outputs": [
        {
          "output_type": "stream",
          "text": [
            "99 -0.03173079700164497 0.03173079700164497\n",
            "199 -0.024241452365306285 0.024241452365306285\n",
            "299 -0.019590717239652087 0.019590717239652087\n",
            "399 -0.016427360997418813 0.016427360997418813\n",
            "499 -0.014138429413603958 0.014138429413603958\n",
            "599 -0.012406450447051597 0.012406450447051597\n",
            "699 -0.011050706128755142 0.011050706128755142\n",
            "799 -0.00996094959269461 0.00996094959269461\n",
            "899 -0.009066010254717002 0.009066010254717002\n",
            "999 -0.008318118521116045 0.008318118521116045\n"
          ],
          "name": "stdout"
        }
      ]
    },
    {
      "cell_type": "markdown",
      "metadata": {
        "id": "RicxV4rEGS0P",
        "colab_type": "text"
      },
      "source": [
        "기대값 0에 가까우려면 i = 99 보다는 i = 999가 더 0에 가까워지는 것을 확인할 수 있다. \n",
        "\n",
        "\n",
        "## IV. Reference\n",
        "\n",
        "김환희. (2020). 시작하세요! 텐서플로 2.0 프로그래밍: 기초 이론부터 실전 예제까지 한번에 끝내는 머신러닝, 딥러닝 핵심 가이드. 서울: 위키북스."
      ]
    }
  ]
}