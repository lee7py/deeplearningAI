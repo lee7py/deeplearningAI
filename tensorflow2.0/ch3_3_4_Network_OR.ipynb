{
  "nbformat": 4,
  "nbformat_minor": 0,
  "metadata": {
    "colab": {
      "name": "ch3_3_4_Network_OR.ipynb",
      "provenance": [],
      "collapsed_sections": [],
      "authorship_tag": "ABX9TyPBVzCG9q/vuEN4ebfZLRbX",
      "include_colab_link": true
    },
    "kernelspec": {
      "name": "python3",
      "display_name": "Python 3"
    }
  },
  "cells": [
    {
      "cell_type": "markdown",
      "metadata": {
        "id": "view-in-github",
        "colab_type": "text"
      },
      "source": [
        "<a href=\"https://colab.research.google.com/github/chloevan/deeplearningAI/blob/master/tensorflow2.0/ch3_3_4_Network_OR.ipynb\" target=\"_parent\"><img src=\"https://colab.research.google.com/assets/colab-badge.svg\" alt=\"Open In Colab\"/></a>"
      ]
    },
    {
      "cell_type": "markdown",
      "metadata": {
        "id": "LM9w0LWJ5EYs",
        "colab_type": "text"
      },
      "source": [
        ""
      ]
    },
    {
      "cell_type": "markdown",
      "metadata": {
        "id": "WmmIA3BQvnAZ",
        "colab_type": "text"
      },
      "source": [
        "---\n",
        "title: \"Tensorflow 2.0 Tutorial ch3.3.4 - 두번째 신경망 네트워크 - OR\"\n",
        "date: 2020-04-11T23:40:30+09:00\n",
        "tags:\n",
        "  - \"Deep Learning\"\n",
        "  - \"Python\"\n",
        "  - \"Google Colab\"\n",
        "  - \"Tensorflow 2.0\"\n",
        "  - \"시그노이드\"\n",
        "  - \"OR Network\"\n",
        "  - \"텐서플로 2.0\"\n",
        "  - \"텐서플로 2.0 튜토리얼\"\n",
        "  - \"Tensorflow 2.0 Tutorial\"\n",
        "categories:\n",
        "  - \"Deep Learning\"\n",
        "  - \"딥러닝\"\n",
        "  - \"텐서플로 2.0\"\n",
        "  - \"Python\"\n",
        "  - \"Tensorflow 2.0\"\n",
        "  - \"텐서플로 2.0 튜토리얼\"\n",
        "  - \"Tensorflow 2.0 Tutorial\"\n",
        "menu: \n",
        "  python:\n",
        "    name: Tensorflow 2.0 Tutorial ch3.3.4 - 두번째 신경망 네트워크 - OR\n",
        "---\n",
        "\n",
        "## 공지\n",
        "\n",
        "- 본 Tutorial은 교재 `시작하세요 텐서플로 2.0 프로그래밍`의 강사에게 국비교육 강의를 듣는 사람들에게 자료 제공을 목적으로 제작하였습니다. \n",
        "- 강사의 주관적인 판단으로 압축해서 자료를 정리하였기 때문에, 자세하게 공부를 하고 싶은 반드시 교재를 구매하실 것을 권해드립니다. \n",
        "![](/img/tensorflow2.0/book.jpg)<!-- -->\n",
        "\n",
        "- 본 교재 외에 강사가 추가한 내용에 대한 Reference를 확인하셔서, 추가적으로 학습하시는 것을 권유드립니다. \n",
        "\n",
        "\n",
        "## Tutorial\n",
        "\n",
        "이전 강의가 궁금하신 분들은 아래에서 선택하여 추가 학습 하시기를 바랍니다. \n",
        "\n",
        "- [Google Colab Tensorflow 2.0 Installation](https://chloevan.github.io/python/tensorflow2.0/googlecolab/)\n",
        "- [Tensorflow 2.0 Tutorial ch3.3.1 - 난수 생성 및 시그모이드 함수](https://chloevan.github.io/python/tensorflow2.0/ch3_3_1_random_signoid/)\n",
        "- [Tensorflow 2.0 Tutorial ch3.3.2 - 난수 생성 및 시그모이드 함수 편향성](https://chloevan.github.io/python/tensorflow2.0/ch3_3_2_random_signoid_bias/)\n",
        "- [Tensorflow 2.0 Tutorial ch3.3.3 - 첫번째 신경망 네트워크: AND](https://chloevan.github.io/python/tensorflow2.0/ch3_3_3_network_and/)\n",
        "\n",
        "\n",
        "## I. OR 연산의 기본 개념\n",
        "\n",
        "`OR` 연산의 기본개념은 아래와 같습니다. `AND`와 달리 하나만 참이어도, 결과값은 모두 참이 됩니다.  \n",
        "\n",
        "`입력1` | `입력2` | `AND 연산`\n",
        "--- | --- | ---\n",
        "참 | 참 | 참\n",
        "참 | 거짓 | 참\n",
        "거짓 | 참 | 참\n",
        "거짓 | 거짓 | 거짓\n",
        "\n",
        "파이썬에서는 참, 거짓을 나타내는 값은 `True`, `False`입니다. 그런데, 딥러닝의 주요 입력값은 정수(Integer)나 실수(float)입니다. 참과 거짓의 값을 출력하여 확인해봅니다. \n",
        "\n",
        "\n"
      ]
    },
    {
      "cell_type": "code",
      "metadata": {
        "id": "pOGV8T455ty1",
        "colab_type": "code",
        "outputId": "2c9e84f2-a8e6-4365-89fa-17f23d18d263",
        "colab": {
          "base_uri": "https://localhost:8080/",
          "height": 51
        }
      },
      "source": [
        "print(int(True))\n",
        "print(int(False))"
      ],
      "execution_count": 0,
      "outputs": [
        {
          "output_type": "stream",
          "text": [
            "1\n",
            "0\n"
          ],
          "name": "stdout"
        }
      ]
    },
    {
      "cell_type": "markdown",
      "metadata": {
        "id": "U_MML9Cq5wvi",
        "colab_type": "text"
      },
      "source": [
        "참은 1로 출력하고 거짓은 0으로 출력한 것을 확인하였습니다. 다시 `OR` 연산 기본개념에 적용하면 아래와 같습니다. \n",
        "\n",
        "`입력1` | `입력2` | `AND 연산`\n",
        "--- | --- | ---\n",
        "1 | 1 | 1\n",
        "1 | 0 | 1\n",
        "0 | 1 | 1\n",
        "0 | 0 | 0\n",
        "\n",
        "## II. Review & Edit For OR\n",
        "`OR` 연산을 계산하는 네트워크를 생성하는 코드도 예제 3.16의 `AND` 네트워크와 매우 비슷합니다. 달라지는 것은 `y` 부분의 기대출력뿐입니다."
      ]
    },
    {
      "cell_type": "code",
      "metadata": {
        "id": "slg6e46y6Ctt",
        "colab_type": "code",
        "outputId": "08f0a81f-498c-4594-9374-c72172855456",
        "colab": {
          "base_uri": "https://localhost:8080/",
          "height": 187
        }
      },
      "source": [
        "# 본 예제\n",
        "import tensorflow as tf\n",
        "import numpy as np\n",
        "\n",
        "import math\n",
        "# 시그모이드 함수 정의\n",
        "def sigmoid(x): \n",
        "  return 1 / (1 + math.exp(-x))\n",
        "\n",
        "x = np.array([[1, 1], [1, 0], [0, 1], [0, 0]])\n",
        "y = np.array([[1], [1], [1], [0]])\n",
        "w = tf.random.normal([2], 0, 1)\n",
        "b = tf.random.normal([1], 0, 1)\n",
        "b_x = 1\n",
        "\n",
        "for i in range(2000): \n",
        "  error_sum = 0\n",
        "\n",
        "  for j in range(4): \n",
        "    output = sigmoid(np.sum(x[j] * w) + b_x * b)\n",
        "    error = y[j][0] - output\n",
        "    w = w + x[j] * 0.1 * error\n",
        "    b = b + b_x * 0.1 * error\n",
        "    error_sum += error\n",
        "\n",
        "  if i % 200 == 199:\n",
        "    print(i, error_sum)"
      ],
      "execution_count": 0,
      "outputs": [
        {
          "output_type": "stream",
          "text": [
            "199 -0.04753116837317456\n",
            "399 -0.025197255723869036\n",
            "599 -0.017073852769690062\n",
            "799 -0.012871429837134879\n",
            "999 -0.010311318147416329\n",
            "1199 -0.008592360635920386\n",
            "1399 -0.0073599238611461795\n",
            "1599 -0.006433635333937565\n",
            "1799 -0.005713413823827767\n",
            "1999 -0.0051357747755025746\n"
          ],
          "name": "stdout"
        }
      ]
    },
    {
      "cell_type": "markdown",
      "metadata": {
        "id": "E48FLwCp6Rau",
        "colab_type": "text"
      },
      "source": [
        "## III. OR 네트워크의 평가\n",
        "\n",
        "`OR` 네트워크를 평가하는 코드와 결과는 다음과 같습니다. \n"
      ]
    },
    {
      "cell_type": "code",
      "metadata": {
        "id": "Vi8w_oqZ6bDb",
        "colab_type": "code",
        "outputId": "a0e29f6b-2939-4de3-c427-923dbefd6c2c",
        "colab": {
          "base_uri": "https://localhost:8080/",
          "height": 85
        }
      },
      "source": [
        "for i in range(4): \n",
        "  print('X:', x[i], 'Y:', y[i], 'Output:', sigmoid(np.sum(x[i]*w)+b))"
      ],
      "execution_count": 0,
      "outputs": [
        {
          "output_type": "stream",
          "text": [
            "X: [1 1] Y: [1] Output: 0.9999972280734293\n",
            "X: [1 0] Y: [1] Output: 0.9898012421887588\n",
            "X: [0 1] Y: [1] Output: 0.9898094027343277\n",
            "X: [0 0] Y: [0] Output: 0.025464390776753325\n"
          ],
          "name": "stdout"
        }
      ]
    },
    {
      "cell_type": "markdown",
      "metadata": {
        "id": "0zU_D8696zhs",
        "colab_type": "text"
      },
      "source": [
        "학습 수`(for i in range(2000):의 2000)`를 바꿔가며 실습하는 것을 권장합니다. 학습 수가 커지면 커질수록 실제 출력이 기대출력 값에 가까워지는 것을 확인할 수 있습니다. \n",
        "\n",
        "## IV. 연습 파일\n",
        "- [구글 Colab에서 직접 연습해보자](https://colab.research.google.com/github/chloevan/deeplearningAI/blob/master/tensorflow2.0/ch3_3_4_Network_OR.ipynb) \n",
        "\n",
        "## V. Reference\n",
        "\n",
        "김환희. (2020). 시작하세요! 텐서플로 2.0 프로그래밍: 기초 이론부터 실전 예제까지 한번에 끝내는 머신러닝, 딥러닝 핵심 가이드. 서울: 위키북스."
      ]
    }
  ]
}